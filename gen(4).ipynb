!pip uninstall -y tsfresh thinc
!pip install gensim
import gensim.downloader as api
import random
embedding_model = api.load("word2vec-google-news-300")
original_prompt = "Describe the beautiful landscapes over the sunset"
def enrich_prompt(prompt,embedding_model,n=5):
  words=prompt.split()
  enriched_prompt = []
  for word in words:
    word_lower=word.lower()
    if word_lower in embedding_model:
      similar_words=embedding_model.most_similar(word_lower,topn=n)
      # The original code had an error here: it was iterating over 'similar_words' but using 'word'.
      # It should be using 'w' which is the tuple from 'similar_words' to access the word string w[0].
      similar_word_list=[w[0] for w in similar_words]
      enriched_prompt.append(" ".join(similar_word_list))
    else:
      enriched_prompt.append(word)
  return " ".join(enriched_prompt)
enriched_prompt=enrich_prompt(original_prompt,embedding_model)
original_response=f"The evening sky glows with hues of orange and purple over a vast landscape"
enriched_response=f"The twilight horizon radiates vibrant shades over an expansive terrain."
print("Original Prompt:",original_prompt)
print("Generated Response:",original_response)
print("\n Enriched Prompt:",enriched_prompt)
print("Generated Response:",enriched_response)